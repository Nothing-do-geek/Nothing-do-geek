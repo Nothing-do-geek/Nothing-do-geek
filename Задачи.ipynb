{
  "nbformat": 4,
  "nbformat_minor": 0,
  "metadata": {
    "colab": {
      "provenance": [],
      "include_colab_link": true
    },
    "kernelspec": {
      "name": "python3",
      "display_name": "Python 3"
    },
    "language_info": {
      "name": "python"
    }
  },
  "cells": [
    {
      "cell_type": "markdown",
      "metadata": {
        "id": "view-in-github",
        "colab_type": "text"
      },
      "source": [
        "<a href=\"https://colab.research.google.com/github/Nothing-do-geek/Nothing-do-geek/blob/main/%D0%97%D0%B0%D0%B4%D0%B0%D1%87%D0%B8.ipynb\" target=\"_parent\"><img src=\"https://colab.research.google.com/assets/colab-badge.svg\" alt=\"Open In Colab\"/></a>"
      ]
    },
    {
      "cell_type": "code",
      "execution_count": null,
      "metadata": {
        "id": "YwjHnRmEeF06"
      },
      "outputs": [],
      "source": [
        "\"\"\"\n",
        "Шахматная ладья ходит по горизонтали или вертикали. Даны две различные клетки шахматной доски, определите, может ли ладья попасть с первой клетки на вторую одним ходом.\n",
        "Программа получает на вход четыре числа от 1 до 8 каждое, задающие номер столбца и номер строки сначала для первой клетки, потом для второй клетки.\n",
        "Программа должна вывести YES, если из первой клетки ходом ладьи можно попасть во вторую или NO в противном случае.\n",
        "\"\"\"\n",
        "# a1 = int(input())\n",
        "# b1 = int(input())\n",
        "# a2 = int(input())\n",
        "# b2 = int(input())\n",
        "# if a1 == a2 or b1 == b2:\n",
        "#   print(\"YES\")\n",
        "# else:\n",
        "#   print(\"NO\")\n",
        "\"\"\"\n",
        "=/= Слон\n",
        "\"\"\"\n",
        "\n",
        "\"\"\"\n",
        "=/= Ферзь\n",
        "\"\"\"\n",
        "\"\"\"\n",
        "=/= Король\n",
        "\"\"\"\n",
        "\"\"\"\n",
        "=/= Конь\n",
        "\"\"\"\n"
      ]
    }
  ]
}